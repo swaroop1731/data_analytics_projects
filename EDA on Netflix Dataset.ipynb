{
 "cells": [
  {
   "cell_type": "markdown",
   "id": "be1da810",
   "metadata": {},
   "source": [
    "# EDA : Netflix Dataset"
   ]
  },
  {
   "cell_type": "markdown",
   "id": "26ed17ad",
   "metadata": {},
   "source": [
    "### Import libraries and read dataset"
   ]
  },
  {
   "cell_type": "code",
   "execution_count": 1,
   "id": "dcd26a06",
   "metadata": {},
   "outputs": [
    {
     "data": {
      "text/html": [
       "<div>\n",
       "<style scoped>\n",
       "    .dataframe tbody tr th:only-of-type {\n",
       "        vertical-align: middle;\n",
       "    }\n",
       "\n",
       "    .dataframe tbody tr th {\n",
       "        vertical-align: top;\n",
       "    }\n",
       "\n",
       "    .dataframe thead th {\n",
       "        text-align: right;\n",
       "    }\n",
       "</style>\n",
       "<table border=\"1\" class=\"dataframe\">\n",
       "  <thead>\n",
       "    <tr style=\"text-align: right;\">\n",
       "      <th></th>\n",
       "      <th>Show_Id</th>\n",
       "      <th>Category</th>\n",
       "      <th>Title</th>\n",
       "      <th>Director</th>\n",
       "      <th>Cast</th>\n",
       "      <th>Country</th>\n",
       "      <th>Release_Date</th>\n",
       "      <th>Rating</th>\n",
       "      <th>Duration</th>\n",
       "      <th>Type</th>\n",
       "      <th>Description</th>\n",
       "    </tr>\n",
       "  </thead>\n",
       "  <tbody>\n",
       "    <tr>\n",
       "      <th>0</th>\n",
       "      <td>s1</td>\n",
       "      <td>TV Show</td>\n",
       "      <td>3%</td>\n",
       "      <td>NaN</td>\n",
       "      <td>João Miguel, Bianca Comparato, Michel Gomes, R...</td>\n",
       "      <td>Brazil</td>\n",
       "      <td>August 14, 2020</td>\n",
       "      <td>TV-MA</td>\n",
       "      <td>4 Seasons</td>\n",
       "      <td>International TV Shows, TV Dramas, TV Sci-Fi &amp;...</td>\n",
       "      <td>In a future where the elite inhabit an island ...</td>\n",
       "    </tr>\n",
       "    <tr>\n",
       "      <th>1</th>\n",
       "      <td>s2</td>\n",
       "      <td>Movie</td>\n",
       "      <td>07:19</td>\n",
       "      <td>Jorge Michel Grau</td>\n",
       "      <td>Demián Bichir, Héctor Bonilla, Oscar Serrano, ...</td>\n",
       "      <td>Mexico</td>\n",
       "      <td>December 23, 2016</td>\n",
       "      <td>TV-MA</td>\n",
       "      <td>93 min</td>\n",
       "      <td>Dramas, International Movies</td>\n",
       "      <td>After a devastating earthquake hits Mexico Cit...</td>\n",
       "    </tr>\n",
       "    <tr>\n",
       "      <th>2</th>\n",
       "      <td>s3</td>\n",
       "      <td>Movie</td>\n",
       "      <td>23:59</td>\n",
       "      <td>Gilbert Chan</td>\n",
       "      <td>Tedd Chan, Stella Chung, Henley Hii, Lawrence ...</td>\n",
       "      <td>Singapore</td>\n",
       "      <td>December 20, 2018</td>\n",
       "      <td>R</td>\n",
       "      <td>78 min</td>\n",
       "      <td>Horror Movies, International Movies</td>\n",
       "      <td>When an army recruit is found dead, his fellow...</td>\n",
       "    </tr>\n",
       "    <tr>\n",
       "      <th>3</th>\n",
       "      <td>s4</td>\n",
       "      <td>Movie</td>\n",
       "      <td>9</td>\n",
       "      <td>Shane Acker</td>\n",
       "      <td>Elijah Wood, John C. Reilly, Jennifer Connelly...</td>\n",
       "      <td>United States</td>\n",
       "      <td>November 16, 2017</td>\n",
       "      <td>PG-13</td>\n",
       "      <td>80 min</td>\n",
       "      <td>Action &amp; Adventure, Independent Movies, Sci-Fi...</td>\n",
       "      <td>In a postapocalyptic world, rag-doll robots hi...</td>\n",
       "    </tr>\n",
       "    <tr>\n",
       "      <th>4</th>\n",
       "      <td>s5</td>\n",
       "      <td>Movie</td>\n",
       "      <td>21</td>\n",
       "      <td>Robert Luketic</td>\n",
       "      <td>Jim Sturgess, Kevin Spacey, Kate Bosworth, Aar...</td>\n",
       "      <td>United States</td>\n",
       "      <td>January 1, 2020</td>\n",
       "      <td>PG-13</td>\n",
       "      <td>123 min</td>\n",
       "      <td>Dramas</td>\n",
       "      <td>A brilliant group of students become card-coun...</td>\n",
       "    </tr>\n",
       "  </tbody>\n",
       "</table>\n",
       "</div>"
      ],
      "text/plain": [
       "  Show_Id Category  Title           Director  \\\n",
       "0      s1  TV Show     3%                NaN   \n",
       "1      s2    Movie  07:19  Jorge Michel Grau   \n",
       "2      s3    Movie  23:59       Gilbert Chan   \n",
       "3      s4    Movie      9        Shane Acker   \n",
       "4      s5    Movie     21     Robert Luketic   \n",
       "\n",
       "                                                Cast        Country  \\\n",
       "0  João Miguel, Bianca Comparato, Michel Gomes, R...         Brazil   \n",
       "1  Demián Bichir, Héctor Bonilla, Oscar Serrano, ...         Mexico   \n",
       "2  Tedd Chan, Stella Chung, Henley Hii, Lawrence ...      Singapore   \n",
       "3  Elijah Wood, John C. Reilly, Jennifer Connelly...  United States   \n",
       "4  Jim Sturgess, Kevin Spacey, Kate Bosworth, Aar...  United States   \n",
       "\n",
       "        Release_Date Rating   Duration  \\\n",
       "0    August 14, 2020  TV-MA  4 Seasons   \n",
       "1  December 23, 2016  TV-MA     93 min   \n",
       "2  December 20, 2018      R     78 min   \n",
       "3  November 16, 2017  PG-13     80 min   \n",
       "4    January 1, 2020  PG-13    123 min   \n",
       "\n",
       "                                                Type  \\\n",
       "0  International TV Shows, TV Dramas, TV Sci-Fi &...   \n",
       "1                       Dramas, International Movies   \n",
       "2                Horror Movies, International Movies   \n",
       "3  Action & Adventure, Independent Movies, Sci-Fi...   \n",
       "4                                             Dramas   \n",
       "\n",
       "                                         Description  \n",
       "0  In a future where the elite inhabit an island ...  \n",
       "1  After a devastating earthquake hits Mexico Cit...  \n",
       "2  When an army recruit is found dead, his fellow...  \n",
       "3  In a postapocalyptic world, rag-doll robots hi...  \n",
       "4  A brilliant group of students become card-coun...  "
      ]
     },
     "execution_count": 1,
     "metadata": {},
     "output_type": "execute_result"
    }
   ],
   "source": [
    "import pandas as pd\n",
    "import numpy as np\n",
    "import matplotlib.pyplot as plt\n",
    "import seaborn as sns\n",
    "\n",
    "\n",
    "df = pd.read_csv(r'C:\\Users\\HP\\Downloads\\Netflix Dataset.csv')\n",
    "\n",
    "df.head(5)      # to display top 5 records\n",
    "# df.tail(5)    # to display last 5 records"
   ]
  },
  {
   "cell_type": "markdown",
   "id": "3d3043ba",
   "metadata": {},
   "source": [
    "### Anomaly Detection"
   ]
  },
  {
   "cell_type": "markdown",
   "id": "bd07e883",
   "metadata": {},
   "source": [
    "### Check for duplicates"
   ]
  },
  {
   "cell_type": "code",
   "execution_count": 2,
   "id": "ca2dfaf7",
   "metadata": {},
   "outputs": [
    {
     "data": {
      "text/html": [
       "<div>\n",
       "<style scoped>\n",
       "    .dataframe tbody tr th:only-of-type {\n",
       "        vertical-align: middle;\n",
       "    }\n",
       "\n",
       "    .dataframe tbody tr th {\n",
       "        vertical-align: top;\n",
       "    }\n",
       "\n",
       "    .dataframe thead th {\n",
       "        text-align: right;\n",
       "    }\n",
       "</style>\n",
       "<table border=\"1\" class=\"dataframe\">\n",
       "  <thead>\n",
       "    <tr style=\"text-align: right;\">\n",
       "      <th></th>\n",
       "      <th>Show_Id</th>\n",
       "      <th>Category</th>\n",
       "      <th>Title</th>\n",
       "      <th>Director</th>\n",
       "      <th>Cast</th>\n",
       "      <th>Country</th>\n",
       "      <th>Release_Date</th>\n",
       "      <th>Rating</th>\n",
       "      <th>Duration</th>\n",
       "      <th>Type</th>\n",
       "      <th>Description</th>\n",
       "    </tr>\n",
       "  </thead>\n",
       "  <tbody>\n",
       "    <tr>\n",
       "      <th>6300</th>\n",
       "      <td>s684</td>\n",
       "      <td>Movie</td>\n",
       "      <td>Backfire</td>\n",
       "      <td>Dave Patten</td>\n",
       "      <td>Black Deniro, Byron \"Squally\" Vinson, Dominic ...</td>\n",
       "      <td>United States</td>\n",
       "      <td>April 5, 2019</td>\n",
       "      <td>TV-MA</td>\n",
       "      <td>97 min</td>\n",
       "      <td>Dramas, Independent Movies, Thrillers</td>\n",
       "      <td>When two would-be robbers accidentally kill a ...</td>\n",
       "    </tr>\n",
       "    <tr>\n",
       "      <th>6622</th>\n",
       "      <td>s6621</td>\n",
       "      <td>Movie</td>\n",
       "      <td>The Lost Okoroshi</td>\n",
       "      <td>Abba T. Makama</td>\n",
       "      <td>Seun Ajayi, Judith Audu, Tope Tedela, Ifu Enna...</td>\n",
       "      <td>Nigeria</td>\n",
       "      <td>September 4, 2020</td>\n",
       "      <td>TV-MA</td>\n",
       "      <td>94 min</td>\n",
       "      <td>Comedies, Dramas, Independent Movies</td>\n",
       "      <td>A disillusioned security guard transforms into...</td>\n",
       "    </tr>\n",
       "  </tbody>\n",
       "</table>\n",
       "</div>"
      ],
      "text/plain": [
       "     Show_Id Category              Title        Director  \\\n",
       "6300    s684    Movie           Backfire     Dave Patten   \n",
       "6622   s6621    Movie  The Lost Okoroshi  Abba T. Makama   \n",
       "\n",
       "                                                   Cast        Country  \\\n",
       "6300  Black Deniro, Byron \"Squally\" Vinson, Dominic ...  United States   \n",
       "6622  Seun Ajayi, Judith Audu, Tope Tedela, Ifu Enna...        Nigeria   \n",
       "\n",
       "           Release_Date Rating Duration  \\\n",
       "6300      April 5, 2019  TV-MA   97 min   \n",
       "6622  September 4, 2020  TV-MA   94 min   \n",
       "\n",
       "                                       Type  \\\n",
       "6300  Dramas, Independent Movies, Thrillers   \n",
       "6622   Comedies, Dramas, Independent Movies   \n",
       "\n",
       "                                            Description  \n",
       "6300  When two would-be robbers accidentally kill a ...  \n",
       "6622  A disillusioned security guard transforms into...  "
      ]
     },
     "execution_count": 2,
     "metadata": {},
     "output_type": "execute_result"
    }
   ],
   "source": [
    "# Below function will retrieve all duplicate records available in dataframe.\n",
    "\n",
    "df[df.duplicated()]"
   ]
  },
  {
   "cell_type": "markdown",
   "id": "1f5b263e",
   "metadata": {},
   "source": [
    "### Drop the dupllicates"
   ]
  },
  {
   "cell_type": "code",
   "execution_count": 3,
   "id": "b7cade5b",
   "metadata": {},
   "outputs": [],
   "source": [
    "df.drop_duplicates(inplace=True)"
   ]
  },
  {
   "cell_type": "code",
   "execution_count": 4,
   "id": "a3f29221",
   "metadata": {},
   "outputs": [
    {
     "data": {
      "text/html": [
       "<div>\n",
       "<style scoped>\n",
       "    .dataframe tbody tr th:only-of-type {\n",
       "        vertical-align: middle;\n",
       "    }\n",
       "\n",
       "    .dataframe tbody tr th {\n",
       "        vertical-align: top;\n",
       "    }\n",
       "\n",
       "    .dataframe thead th {\n",
       "        text-align: right;\n",
       "    }\n",
       "</style>\n",
       "<table border=\"1\" class=\"dataframe\">\n",
       "  <thead>\n",
       "    <tr style=\"text-align: right;\">\n",
       "      <th></th>\n",
       "      <th>Show_Id</th>\n",
       "      <th>Category</th>\n",
       "      <th>Title</th>\n",
       "      <th>Director</th>\n",
       "      <th>Cast</th>\n",
       "      <th>Country</th>\n",
       "      <th>Release_Date</th>\n",
       "      <th>Rating</th>\n",
       "      <th>Duration</th>\n",
       "      <th>Type</th>\n",
       "      <th>Description</th>\n",
       "    </tr>\n",
       "  </thead>\n",
       "  <tbody>\n",
       "  </tbody>\n",
       "</table>\n",
       "</div>"
      ],
      "text/plain": [
       "Empty DataFrame\n",
       "Columns: [Show_Id, Category, Title, Director, Cast, Country, Release_Date, Rating, Duration, Type, Description]\n",
       "Index: []"
      ]
     },
     "execution_count": 4,
     "metadata": {},
     "output_type": "execute_result"
    }
   ],
   "source": [
    "# To verify we can run the duplicated() to confirm if there are still duplicates in dataframe.\n",
    "\n",
    "df[df.duplicated()]"
   ]
  },
  {
   "cell_type": "markdown",
   "id": "c78e92f6",
   "metadata": {},
   "source": [
    "### Check for missing values & plot Heatmap"
   ]
  },
  {
   "cell_type": "code",
   "execution_count": 5,
   "id": "db64888f",
   "metadata": {},
   "outputs": [
    {
     "name": "stdout",
     "output_type": "stream",
     "text": [
      "Director        2388\n",
      "Cast             718\n",
      "Country          507\n",
      "Release_Date      10\n",
      "Rating             7\n",
      "Show_Id            0\n",
      "Category           0\n",
      "Title              0\n",
      "Duration           0\n",
      "Type               0\n",
      "Description        0\n",
      "dtype: int64\n"
     ]
    },
    {
     "data": {
      "text/plain": [
       "<AxesSubplot:>"
      ]
     },
     "execution_count": 5,
     "metadata": {},
     "output_type": "execute_result"
    },
    {
     "data": {
      "image/png": "[encoded data removed]",
      "text/plain": [
       "<Figure size 640x480 with 2 Axes>"
      ]
     },
     "metadata": {},
     "output_type": "display_data"
    }
   ],
   "source": [
    "# We can use isnull().sum() to get the missing values\n",
    "\n",
    "print(df.isnull().sum().sort_values(ascending=False))\n",
    "\n",
    "# How to sort by multiple columns \n",
    "#df_sorted = df.sort_values(by=['col_1', 'col_2'], ascending=[True, False])\n",
    "\n",
    "# To drop the NA values we can use dropna() function.\n",
    "# df = df.dropna()\n",
    "\n",
    "# Heatmap\n",
    "sns.heatmap(df.isnull())"
   ]
  },
  {
   "cell_type": "markdown",
   "id": "e3215301",
   "metadata": {},
   "source": [
    "## Some Questions & Answers"
   ]
  },
  {
   "cell_type": "markdown",
   "id": "172c6180",
   "metadata": {},
   "source": [
    "### 1. For 'House of Cards', what is the Show ID and who is the Director of this Show ?"
   ]
  },
  {
   "cell_type": "markdown",
   "id": "0b8d603f",
   "metadata": {},
   "source": [
    "For this Question we need to filter out based on Title = 'House of Cards'"
   ]
  },
  {
   "cell_type": "code",
   "execution_count": 6,
   "id": "46256777",
   "metadata": {},
   "outputs": [
    {
     "data": {
      "text/html": [
       "<div>\n",
       "<style scoped>\n",
       "    .dataframe tbody tr th:only-of-type {\n",
       "        vertical-align: middle;\n",
       "    }\n",
       "\n",
       "    .dataframe tbody tr th {\n",
       "        vertical-align: top;\n",
       "    }\n",
       "\n",
       "    .dataframe thead th {\n",
       "        text-align: right;\n",
       "    }\n",
       "</style>\n",
       "<table border=\"1\" class=\"dataframe\">\n",
       "  <thead>\n",
       "    <tr style=\"text-align: right;\">\n",
       "      <th></th>\n",
       "      <th>Show_Id</th>\n",
       "      <th>Category</th>\n",
       "      <th>Title</th>\n",
       "      <th>Director</th>\n",
       "      <th>Cast</th>\n",
       "      <th>Country</th>\n",
       "      <th>Release_Date</th>\n",
       "      <th>Rating</th>\n",
       "      <th>Duration</th>\n",
       "      <th>Type</th>\n",
       "      <th>Description</th>\n",
       "    </tr>\n",
       "  </thead>\n",
       "  <tbody>\n",
       "    <tr>\n",
       "      <th>2832</th>\n",
       "      <td>s2833</td>\n",
       "      <td>TV Show</td>\n",
       "      <td>House of Cards</td>\n",
       "      <td>Robin Wright, David Fincher, Gerald McRaney, J...</td>\n",
       "      <td>Kevin Spacey, Robin Wright, Kate Mara, Corey S...</td>\n",
       "      <td>United States</td>\n",
       "      <td>November 2, 2018</td>\n",
       "      <td>TV-MA</td>\n",
       "      <td>6 Seasons</td>\n",
       "      <td>TV Dramas, TV Thrillers</td>\n",
       "      <td>A ruthless politician will stop at nothing to ...</td>\n",
       "    </tr>\n",
       "  </tbody>\n",
       "</table>\n",
       "</div>"
      ],
      "text/plain": [
       "     Show_Id Category           Title  \\\n",
       "2832   s2833  TV Show  House of Cards   \n",
       "\n",
       "                                               Director  \\\n",
       "2832  Robin Wright, David Fincher, Gerald McRaney, J...   \n",
       "\n",
       "                                                   Cast        Country  \\\n",
       "2832  Kevin Spacey, Robin Wright, Kate Mara, Corey S...  United States   \n",
       "\n",
       "          Release_Date Rating   Duration                     Type  \\\n",
       "2832  November 2, 2018  TV-MA  6 Seasons  TV Dramas, TV Thrillers   \n",
       "\n",
       "                                            Description  \n",
       "2832  A ruthless politician will stop at nothing to ...  "
      ]
     },
     "execution_count": 6,
     "metadata": {},
     "output_type": "execute_result"
    }
   ],
   "source": [
    "df[df['Title'] == 'House of Cards']"
   ]
  },
  {
   "cell_type": "markdown",
   "id": "29c48e47",
   "metadata": {},
   "source": [
    "Now we only want Show ID and Director so for that we will just add the column names we want as Output"
   ]
  },
  {
   "cell_type": "code",
   "execution_count": 7,
   "id": "cba5394d",
   "metadata": {},
   "outputs": [
    {
     "data": {
      "text/html": [
       "<div>\n",
       "<style scoped>\n",
       "    .dataframe tbody tr th:only-of-type {\n",
       "        vertical-align: middle;\n",
       "    }\n",
       "\n",
       "    .dataframe tbody tr th {\n",
       "        vertical-align: top;\n",
       "    }\n",
       "\n",
       "    .dataframe thead th {\n",
       "        text-align: right;\n",
       "    }\n",
       "</style>\n",
       "<table border=\"1\" class=\"dataframe\">\n",
       "  <thead>\n",
       "    <tr style=\"text-align: right;\">\n",
       "      <th></th>\n",
       "      <th>Show_Id</th>\n",
       "      <th>Director</th>\n",
       "    </tr>\n",
       "  </thead>\n",
       "  <tbody>\n",
       "    <tr>\n",
       "      <th>2832</th>\n",
       "      <td>s2833</td>\n",
       "      <td>Robin Wright, David Fincher, Gerald McRaney, J...</td>\n",
       "    </tr>\n",
       "  </tbody>\n",
       "</table>\n",
       "</div>"
      ],
      "text/plain": [
       "     Show_Id                                           Director\n",
       "2832   s2833  Robin Wright, David Fincher, Gerald McRaney, J..."
      ]
     },
     "execution_count": 7,
     "metadata": {},
     "output_type": "execute_result"
    }
   ],
   "source": [
    "df[df['Title'] == 'House of Cards'][['Show_Id','Director']]"
   ]
  },
  {
   "cell_type": "markdown",
   "id": "64ff4908",
   "metadata": {},
   "source": [
    "Some other ways to get the same output using str.contains() and str.isin() "
   ]
  },
  {
   "cell_type": "code",
   "execution_count": 8,
   "id": "c550979e",
   "metadata": {},
   "outputs": [
    {
     "data": {
      "text/html": [
       "<div>\n",
       "<style scoped>\n",
       "    .dataframe tbody tr th:only-of-type {\n",
       "        vertical-align: middle;\n",
       "    }\n",
       "\n",
       "    .dataframe tbody tr th {\n",
       "        vertical-align: top;\n",
       "    }\n",
       "\n",
       "    .dataframe thead th {\n",
       "        text-align: right;\n",
       "    }\n",
       "</style>\n",
       "<table border=\"1\" class=\"dataframe\">\n",
       "  <thead>\n",
       "    <tr style=\"text-align: right;\">\n",
       "      <th></th>\n",
       "      <th>Show_Id</th>\n",
       "      <th>Category</th>\n",
       "      <th>Title</th>\n",
       "      <th>Director</th>\n",
       "      <th>Cast</th>\n",
       "      <th>Country</th>\n",
       "      <th>Release_Date</th>\n",
       "      <th>Rating</th>\n",
       "      <th>Duration</th>\n",
       "      <th>Type</th>\n",
       "      <th>Description</th>\n",
       "    </tr>\n",
       "  </thead>\n",
       "  <tbody>\n",
       "    <tr>\n",
       "      <th>2832</th>\n",
       "      <td>s2833</td>\n",
       "      <td>TV Show</td>\n",
       "      <td>House of Cards</td>\n",
       "      <td>Robin Wright, David Fincher, Gerald McRaney, J...</td>\n",
       "      <td>Kevin Spacey, Robin Wright, Kate Mara, Corey S...</td>\n",
       "      <td>United States</td>\n",
       "      <td>November 2, 2018</td>\n",
       "      <td>TV-MA</td>\n",
       "      <td>6 Seasons</td>\n",
       "      <td>TV Dramas, TV Thrillers</td>\n",
       "      <td>A ruthless politician will stop at nothing to ...</td>\n",
       "    </tr>\n",
       "  </tbody>\n",
       "</table>\n",
       "</div>"
      ],
      "text/plain": [
       "     Show_Id Category           Title  \\\n",
       "2832   s2833  TV Show  House of Cards   \n",
       "\n",
       "                                               Director  \\\n",
       "2832  Robin Wright, David Fincher, Gerald McRaney, J...   \n",
       "\n",
       "                                                   Cast        Country  \\\n",
       "2832  Kevin Spacey, Robin Wright, Kate Mara, Corey S...  United States   \n",
       "\n",
       "          Release_Date Rating   Duration                     Type  \\\n",
       "2832  November 2, 2018  TV-MA  6 Seasons  TV Dramas, TV Thrillers   \n",
       "\n",
       "                                            Description  \n",
       "2832  A ruthless politician will stop at nothing to ...  "
      ]
     },
     "execution_count": 8,
     "metadata": {},
     "output_type": "execute_result"
    }
   ],
   "source": [
    "df[df['Title'].str.contains('House of Cards')]"
   ]
  },
  {
   "cell_type": "code",
   "execution_count": 9,
   "id": "f653d33c",
   "metadata": {},
   "outputs": [
    {
     "data": {
      "text/html": [
       "<div>\n",
       "<style scoped>\n",
       "    .dataframe tbody tr th:only-of-type {\n",
       "        vertical-align: middle;\n",
       "    }\n",
       "\n",
       "    .dataframe tbody tr th {\n",
       "        vertical-align: top;\n",
       "    }\n",
       "\n",
       "    .dataframe thead th {\n",
       "        text-align: right;\n",
       "    }\n",
       "</style>\n",
       "<table border=\"1\" class=\"dataframe\">\n",
       "  <thead>\n",
       "    <tr style=\"text-align: right;\">\n",
       "      <th></th>\n",
       "      <th>Show_Id</th>\n",
       "      <th>Category</th>\n",
       "      <th>Title</th>\n",
       "      <th>Director</th>\n",
       "      <th>Cast</th>\n",
       "      <th>Country</th>\n",
       "      <th>Release_Date</th>\n",
       "      <th>Rating</th>\n",
       "      <th>Duration</th>\n",
       "      <th>Type</th>\n",
       "      <th>Description</th>\n",
       "    </tr>\n",
       "  </thead>\n",
       "  <tbody>\n",
       "    <tr>\n",
       "      <th>2832</th>\n",
       "      <td>s2833</td>\n",
       "      <td>TV Show</td>\n",
       "      <td>House of Cards</td>\n",
       "      <td>Robin Wright, David Fincher, Gerald McRaney, J...</td>\n",
       "      <td>Kevin Spacey, Robin Wright, Kate Mara, Corey S...</td>\n",
       "      <td>United States</td>\n",
       "      <td>November 2, 2018</td>\n",
       "      <td>TV-MA</td>\n",
       "      <td>6 Seasons</td>\n",
       "      <td>TV Dramas, TV Thrillers</td>\n",
       "      <td>A ruthless politician will stop at nothing to ...</td>\n",
       "    </tr>\n",
       "  </tbody>\n",
       "</table>\n",
       "</div>"
      ],
      "text/plain": [
       "     Show_Id Category           Title  \\\n",
       "2832   s2833  TV Show  House of Cards   \n",
       "\n",
       "                                               Director  \\\n",
       "2832  Robin Wright, David Fincher, Gerald McRaney, J...   \n",
       "\n",
       "                                                   Cast        Country  \\\n",
       "2832  Kevin Spacey, Robin Wright, Kate Mara, Corey S...  United States   \n",
       "\n",
       "          Release_Date Rating   Duration                     Type  \\\n",
       "2832  November 2, 2018  TV-MA  6 Seasons  TV Dramas, TV Thrillers   \n",
       "\n",
       "                                            Description  \n",
       "2832  A ruthless politician will stop at nothing to ...  "
      ]
     },
     "execution_count": 9,
     "metadata": {},
     "output_type": "execute_result"
    }
   ],
   "source": [
    "df[df['Title'].isin(['House of Cards'])]"
   ]
  },
  {
   "cell_type": "markdown",
   "id": "05c0e383",
   "metadata": {},
   "source": [
    "### 2. In which year Highest number of TV Shows & Movies were released ? Show Bar Graph"
   ]
  },
  {
   "cell_type": "markdown",
   "id": "53bb5086",
   "metadata": {},
   "source": [
    "Lets first check the Data Types of each columns. If its not Date then we need to Typecast it."
   ]
  },
  {
   "cell_type": "code",
   "execution_count": 10,
   "id": "1787d970",
   "metadata": {},
   "outputs": [
    {
     "name": "stdout",
     "output_type": "stream",
     "text": [
      "<class 'pandas.core.frame.DataFrame'>\n",
      "Int64Index: 7787 entries, 0 to 7788\n",
      "Data columns (total 11 columns):\n",
      " #   Column        Non-Null Count  Dtype \n",
      "---  ------        --------------  ----- \n",
      " 0   Show_Id       7787 non-null   object\n",
      " 1   Category      7787 non-null   object\n",
      " 2   Title         7787 non-null   object\n",
      " 3   Director      5399 non-null   object\n",
      " 4   Cast          7069 non-null   object\n",
      " 5   Country       7280 non-null   object\n",
      " 6   Release_Date  7777 non-null   object\n",
      " 7   Rating        7780 non-null   object\n",
      " 8   Duration      7787 non-null   object\n",
      " 9   Type          7787 non-null   object\n",
      " 10  Description   7787 non-null   object\n",
      "dtypes: object(11)\n",
      "memory usage: 730.0+ KB\n"
     ]
    }
   ],
   "source": [
    "df.info()"
   ]
  },
  {
   "cell_type": "code",
   "execution_count": 11,
   "id": "cdddea49",
   "metadata": {},
   "outputs": [],
   "source": [
    "df['Release_Date'] = pd.to_datetime(df['Release_Date'])"
   ]
  },
  {
   "cell_type": "code",
   "execution_count": 12,
   "id": "6f667c5f",
   "metadata": {},
   "outputs": [
    {
     "data": {
      "text/plain": [
       "<AxesSubplot:xlabel='Year', ylabel='Movies & TV Shows'>"
      ]
     },
     "execution_count": 12,
     "metadata": {},
     "output_type": "execute_result"
    },
    {
     "data": {
      "image/png": "[encoded data removed]",
      "text/plain": [
       "<Figure size 640x480 with 1 Axes>"
      ]
     },
     "metadata": {},
     "output_type": "display_data"
    }
   ],
   "source": [
    "# Here we can see Year 2019 Tops the higest number of TV Shows and Movie Releases.\n",
    "\n",
    "plt.xlabel('Year')\n",
    "plt.ylabel('Movies & TV Shows')\n",
    "\n",
    "df['Release_Date'].dt.year.value_counts().plot(kind='bar')"
   ]
  },
  {
   "cell_type": "markdown",
   "id": "d95b2a84",
   "metadata": {},
   "source": [
    "### 3. How Many Movies and TV Shows are in the Dataset? Plot Graph"
   ]
  },
  {
   "cell_type": "markdown",
   "id": "3d00f170",
   "metadata": {},
   "source": [
    "We can use the same function sort_values() to get this answer."
   ]
  },
  {
   "cell_type": "code",
   "execution_count": 13,
   "id": "69ef1b7f",
   "metadata": {},
   "outputs": [
    {
     "data": {
      "text/plain": [
       "Movie      5377\n",
       "TV Show    2410\n",
       "Name: Category, dtype: int64"
      ]
     },
     "execution_count": 13,
     "metadata": {},
     "output_type": "execute_result"
    }
   ],
   "source": [
    "df['Category'].value_counts()"
   ]
  },
  {
   "cell_type": "markdown",
   "id": "d1ce1d1d",
   "metadata": {},
   "source": [
    "Alternate way is to use groupby()"
   ]
  },
  {
   "cell_type": "code",
   "execution_count": 14,
   "id": "21abf540",
   "metadata": {},
   "outputs": [
    {
     "data": {
      "text/plain": [
       "Category\n",
       "Movie      5377\n",
       "TV Show    2410\n",
       "Name: Category, dtype: int64"
      ]
     },
     "execution_count": 14,
     "metadata": {},
     "output_type": "execute_result"
    }
   ],
   "source": [
    "df.groupby('Category')['Category'].count()\n",
    "\n",
    "############## OR #############\n",
    "\n",
    "# df.groupby('Category').Category.count()"
   ]
  },
  {
   "cell_type": "code",
   "execution_count": 15,
   "id": "ffe46881",
   "metadata": {},
   "outputs": [
    {
     "data": {
      "text/plain": [
       "<AxesSubplot:xlabel='Category', ylabel='Count'>"
      ]
     },
     "execution_count": 15,
     "metadata": {},
     "output_type": "execute_result"
    },
    {
     "data": {
      "image/png": "[encoded data removed]",
      "text/plain": [
       "<Figure size 640x480 with 1 Axes>"
      ]
     },
     "metadata": {},
     "output_type": "display_data"
    }
   ],
   "source": [
    "plt.xlabel('Category')\n",
    "plt.ylabel('Count')\n",
    "\n",
    "df['Category'].value_counts().plot(kind='bar')\n",
    "\n",
    "# Also we can plot like this\n",
    "\n",
    "# sns.countplot(df['Category'])"
   ]
  },
  {
   "cell_type": "markdown",
   "id": "192ecff7",
   "metadata": {},
   "source": [
    "### 4. How many TV shows got R rating after 2018 ?"
   ]
  },
  {
   "cell_type": "code",
   "execution_count": 16,
   "id": "e7a0884e",
   "metadata": {},
   "outputs": [
    {
     "data": {
      "text/html": [
       "<div>\n",
       "<style scoped>\n",
       "    .dataframe tbody tr th:only-of-type {\n",
       "        vertical-align: middle;\n",
       "    }\n",
       "\n",
       "    .dataframe tbody tr th {\n",
       "        vertical-align: top;\n",
       "    }\n",
       "\n",
       "    .dataframe thead th {\n",
       "        text-align: right;\n",
       "    }\n",
       "</style>\n",
       "<table border=\"1\" class=\"dataframe\">\n",
       "  <thead>\n",
       "    <tr style=\"text-align: right;\">\n",
       "      <th></th>\n",
       "      <th>Show_Id</th>\n",
       "      <th>Category</th>\n",
       "      <th>Title</th>\n",
       "      <th>Director</th>\n",
       "      <th>Cast</th>\n",
       "      <th>Country</th>\n",
       "      <th>Release_Date</th>\n",
       "      <th>Rating</th>\n",
       "      <th>Duration</th>\n",
       "      <th>Type</th>\n",
       "      <th>Description</th>\n",
       "    </tr>\n",
       "  </thead>\n",
       "  <tbody>\n",
       "    <tr>\n",
       "      <th>6437</th>\n",
       "      <td>s6436</td>\n",
       "      <td>TV Show</td>\n",
       "      <td>The Hateful Eight: Extended Version</td>\n",
       "      <td>Quentin Tarantino</td>\n",
       "      <td>Samuel L. Jackson, Kurt Russell, Jennifer Jaso...</td>\n",
       "      <td>NaN</td>\n",
       "      <td>2019-04-25</td>\n",
       "      <td>R</td>\n",
       "      <td>1 Season</td>\n",
       "      <td>TV Shows</td>\n",
       "      <td>Trapped at a stagecoach stop as a storm rages ...</td>\n",
       "    </tr>\n",
       "  </tbody>\n",
       "</table>\n",
       "</div>"
      ],
      "text/plain": [
       "     Show_Id Category                                Title           Director  \\\n",
       "6437   s6436  TV Show  The Hateful Eight: Extended Version  Quentin Tarantino   \n",
       "\n",
       "                                                   Cast Country Release_Date  \\\n",
       "6437  Samuel L. Jackson, Kurt Russell, Jennifer Jaso...     NaN   2019-04-25   \n",
       "\n",
       "     Rating  Duration      Type  \\\n",
       "6437      R  1 Season  TV Shows   \n",
       "\n",
       "                                            Description  \n",
       "6437  Trapped at a stagecoach stop as a storm rages ...  "
      ]
     },
     "execution_count": 16,
     "metadata": {},
     "output_type": "execute_result"
    }
   ],
   "source": [
    "df[(df['Category'] == 'TV Show') & (df['Rating'] == 'R') & (df['Release_Date'].dt.year > 2018)]"
   ]
  },
  {
   "cell_type": "markdown",
   "id": "3be74b2a",
   "metadata": {},
   "source": [
    "### 5. How many Movies got 'TV-14' rating in Canada ?"
   ]
  },
  {
   "cell_type": "code",
   "execution_count": 17,
   "id": "af181321",
   "metadata": {},
   "outputs": [
    {
     "data": {
      "text/html": [
       "<div>\n",
       "<style scoped>\n",
       "    .dataframe tbody tr th:only-of-type {\n",
       "        vertical-align: middle;\n",
       "    }\n",
       "\n",
       "    .dataframe tbody tr th {\n",
       "        vertical-align: top;\n",
       "    }\n",
       "\n",
       "    .dataframe thead th {\n",
       "        text-align: right;\n",
       "    }\n",
       "</style>\n",
       "<table border=\"1\" class=\"dataframe\">\n",
       "  <thead>\n",
       "    <tr style=\"text-align: right;\">\n",
       "      <th></th>\n",
       "      <th>Show_Id</th>\n",
       "      <th>Category</th>\n",
       "      <th>Title</th>\n",
       "      <th>Director</th>\n",
       "      <th>Cast</th>\n",
       "      <th>Country</th>\n",
       "      <th>Release_Date</th>\n",
       "      <th>Rating</th>\n",
       "      <th>Duration</th>\n",
       "      <th>Type</th>\n",
       "      <th>Description</th>\n",
       "    </tr>\n",
       "  </thead>\n",
       "  <tbody>\n",
       "    <tr>\n",
       "      <th>30</th>\n",
       "      <td>s31</td>\n",
       "      <td>Movie</td>\n",
       "      <td>#cats_the_mewvie</td>\n",
       "      <td>Michael Margolis</td>\n",
       "      <td>NaN</td>\n",
       "      <td>Canada</td>\n",
       "      <td>2020-02-05</td>\n",
       "      <td>TV-14</td>\n",
       "      <td>90 min</td>\n",
       "      <td>Documentaries, International Movies</td>\n",
       "      <td>This pawesome documentary explores how our fel...</td>\n",
       "    </tr>\n",
       "    <tr>\n",
       "      <th>34</th>\n",
       "      <td>s35</td>\n",
       "      <td>Movie</td>\n",
       "      <td>#Roxy</td>\n",
       "      <td>Michael Kennedy</td>\n",
       "      <td>Jake Short, Sarah Fisher, Booboo Stewart, Dann...</td>\n",
       "      <td>Canada</td>\n",
       "      <td>2019-04-10</td>\n",
       "      <td>TV-14</td>\n",
       "      <td>105 min</td>\n",
       "      <td>Comedies, Romantic Movies</td>\n",
       "      <td>A teenage hacker with a huge nose helps a cool...</td>\n",
       "    </tr>\n",
       "    <tr>\n",
       "      <th>608</th>\n",
       "      <td>s609</td>\n",
       "      <td>Movie</td>\n",
       "      <td>At First Light</td>\n",
       "      <td>Jason Stone</td>\n",
       "      <td>Stefanie Scott, Theodore Pellerin, Percy Hynes...</td>\n",
       "      <td>Canada</td>\n",
       "      <td>2018-12-27</td>\n",
       "      <td>TV-14</td>\n",
       "      <td>91 min</td>\n",
       "      <td>Dramas, Sci-Fi &amp; Fantasy</td>\n",
       "      <td>After mysterious lights imbue her with extraor...</td>\n",
       "    </tr>\n",
       "    <tr>\n",
       "      <th>1506</th>\n",
       "      <td>s1507</td>\n",
       "      <td>Movie</td>\n",
       "      <td>Counterfeiting in Suburbia</td>\n",
       "      <td>Jason Bourque</td>\n",
       "      <td>Sarah Butler, Larissa Albuquerque, Kayla Walla...</td>\n",
       "      <td>Canada</td>\n",
       "      <td>2018-07-01</td>\n",
       "      <td>TV-14</td>\n",
       "      <td>88 min</td>\n",
       "      <td>Dramas, Thrillers</td>\n",
       "      <td>Two teenagers print counterfeit money in their...</td>\n",
       "    </tr>\n",
       "    <tr>\n",
       "      <th>3713</th>\n",
       "      <td>s3714</td>\n",
       "      <td>Movie</td>\n",
       "      <td>Long Time Running</td>\n",
       "      <td>Jennifer Baichwal, Nicholas de Pencier</td>\n",
       "      <td>Gord Downie, Paul Langlois, Gord Sinclair, Rob...</td>\n",
       "      <td>Canada</td>\n",
       "      <td>2017-11-12</td>\n",
       "      <td>TV-14</td>\n",
       "      <td>96 min</td>\n",
       "      <td>Documentaries, International Movies, Music &amp; M...</td>\n",
       "      <td>This documentary follows the 2016 tour of belo...</td>\n",
       "    </tr>\n",
       "    <tr>\n",
       "      <th>3956</th>\n",
       "      <td>s3957</td>\n",
       "      <td>Movie</td>\n",
       "      <td>Martin Matte: La vie, la mort...eh la la..!</td>\n",
       "      <td>Jean-François Blais</td>\n",
       "      <td>Martin Matte</td>\n",
       "      <td>Canada</td>\n",
       "      <td>2019-10-14</td>\n",
       "      <td>TV-14</td>\n",
       "      <td>62 min</td>\n",
       "      <td>Stand-Up Comedy</td>\n",
       "      <td>Quebecois comedy star Martin Matte serves up e...</td>\n",
       "    </tr>\n",
       "    <tr>\n",
       "      <th>5336</th>\n",
       "      <td>s5336</td>\n",
       "      <td>Movie</td>\n",
       "      <td>Sadie's Last Days on Earth</td>\n",
       "      <td>Michael Seater</td>\n",
       "      <td>Morgan Taylor Campbell, Clark Backo, Ricardo H...</td>\n",
       "      <td>Canada</td>\n",
       "      <td>2017-08-22</td>\n",
       "      <td>TV-14</td>\n",
       "      <td>94 min</td>\n",
       "      <td>Comedies, Sci-Fi &amp; Fantasy</td>\n",
       "      <td>High schooler Sadie Mitchell believes the worl...</td>\n",
       "    </tr>\n",
       "    <tr>\n",
       "      <th>5393</th>\n",
       "      <td>s5393</td>\n",
       "      <td>Movie</td>\n",
       "      <td>Sardaar ji</td>\n",
       "      <td>Rohit Jugraj</td>\n",
       "      <td>Diljit Dosanjh, Neeru Bajwa, Mandy Takhar, Jas...</td>\n",
       "      <td>Canada</td>\n",
       "      <td>2017-12-01</td>\n",
       "      <td>TV-14</td>\n",
       "      <td>140 min</td>\n",
       "      <td>Comedies, International Movies, Music &amp; Musicals</td>\n",
       "      <td>When a palatial wedding venue turns out to be ...</td>\n",
       "    </tr>\n",
       "    <tr>\n",
       "      <th>6062</th>\n",
       "      <td>s6062</td>\n",
       "      <td>Movie</td>\n",
       "      <td>The Accountant of Auschwitz</td>\n",
       "      <td>Matthew Shoychet</td>\n",
       "      <td>NaN</td>\n",
       "      <td>Canada</td>\n",
       "      <td>2019-07-01</td>\n",
       "      <td>TV-14</td>\n",
       "      <td>78 min</td>\n",
       "      <td>Documentaries, International Movies</td>\n",
       "      <td>Decades after WWII, a former SS officer stands...</td>\n",
       "    </tr>\n",
       "    <tr>\n",
       "      <th>7025</th>\n",
       "      <td>s7024</td>\n",
       "      <td>Movie</td>\n",
       "      <td>The Wrong Babysitter</td>\n",
       "      <td>George Mendeluk</td>\n",
       "      <td>Daphne Zuniga, Seann Gallagher, Lisa Marie Car...</td>\n",
       "      <td>Canada</td>\n",
       "      <td>2019-06-18</td>\n",
       "      <td>TV-14</td>\n",
       "      <td>89 min</td>\n",
       "      <td>Thrillers</td>\n",
       "      <td>A widow searches for her missing teenage daugh...</td>\n",
       "    </tr>\n",
       "    <tr>\n",
       "      <th>7041</th>\n",
       "      <td>s7040</td>\n",
       "      <td>Movie</td>\n",
       "      <td>There's Something in the Water</td>\n",
       "      <td>Ellen Page, Ian Daniel</td>\n",
       "      <td>Ellen Page</td>\n",
       "      <td>Canada</td>\n",
       "      <td>2020-03-27</td>\n",
       "      <td>TV-14</td>\n",
       "      <td>72 min</td>\n",
       "      <td>Documentaries, International Movies</td>\n",
       "      <td>This documentary spotlights the struggle of mi...</td>\n",
       "    </tr>\n",
       "  </tbody>\n",
       "</table>\n",
       "</div>"
      ],
      "text/plain": [
       "     Show_Id Category                                        Title  \\\n",
       "30       s31    Movie                             #cats_the_mewvie   \n",
       "34       s35    Movie                                        #Roxy   \n",
       "608     s609    Movie                               At First Light   \n",
       "1506   s1507    Movie                   Counterfeiting in Suburbia   \n",
       "3713   s3714    Movie                            Long Time Running   \n",
       "3956   s3957    Movie  Martin Matte: La vie, la mort...eh la la..!   \n",
       "5336   s5336    Movie                   Sadie's Last Days on Earth   \n",
       "5393   s5393    Movie                                   Sardaar ji   \n",
       "6062   s6062    Movie                  The Accountant of Auschwitz   \n",
       "7025   s7024    Movie                         The Wrong Babysitter   \n",
       "7041   s7040    Movie               There's Something in the Water   \n",
       "\n",
       "                                    Director  \\\n",
       "30                          Michael Margolis   \n",
       "34                           Michael Kennedy   \n",
       "608                              Jason Stone   \n",
       "1506                           Jason Bourque   \n",
       "3713  Jennifer Baichwal, Nicholas de Pencier   \n",
       "3956                     Jean-François Blais   \n",
       "5336                          Michael Seater   \n",
       "5393                            Rohit Jugraj   \n",
       "6062                        Matthew Shoychet   \n",
       "7025                         George Mendeluk   \n",
       "7041                  Ellen Page, Ian Daniel   \n",
       "\n",
       "                                                   Cast Country Release_Date  \\\n",
       "30                                                  NaN  Canada   2020-02-05   \n",
       "34    Jake Short, Sarah Fisher, Booboo Stewart, Dann...  Canada   2019-04-10   \n",
       "608   Stefanie Scott, Theodore Pellerin, Percy Hynes...  Canada   2018-12-27   \n",
       "1506  Sarah Butler, Larissa Albuquerque, Kayla Walla...  Canada   2018-07-01   \n",
       "3713  Gord Downie, Paul Langlois, Gord Sinclair, Rob...  Canada   2017-11-12   \n",
       "3956                                       Martin Matte  Canada   2019-10-14   \n",
       "5336  Morgan Taylor Campbell, Clark Backo, Ricardo H...  Canada   2017-08-22   \n",
       "5393  Diljit Dosanjh, Neeru Bajwa, Mandy Takhar, Jas...  Canada   2017-12-01   \n",
       "6062                                                NaN  Canada   2019-07-01   \n",
       "7025  Daphne Zuniga, Seann Gallagher, Lisa Marie Car...  Canada   2019-06-18   \n",
       "7041                                         Ellen Page  Canada   2020-03-27   \n",
       "\n",
       "     Rating Duration                                               Type  \\\n",
       "30    TV-14   90 min                Documentaries, International Movies   \n",
       "34    TV-14  105 min                          Comedies, Romantic Movies   \n",
       "608   TV-14   91 min                           Dramas, Sci-Fi & Fantasy   \n",
       "1506  TV-14   88 min                                  Dramas, Thrillers   \n",
       "3713  TV-14   96 min  Documentaries, International Movies, Music & M...   \n",
       "3956  TV-14   62 min                                    Stand-Up Comedy   \n",
       "5336  TV-14   94 min                         Comedies, Sci-Fi & Fantasy   \n",
       "5393  TV-14  140 min   Comedies, International Movies, Music & Musicals   \n",
       "6062  TV-14   78 min                Documentaries, International Movies   \n",
       "7025  TV-14   89 min                                          Thrillers   \n",
       "7041  TV-14   72 min                Documentaries, International Movies   \n",
       "\n",
       "                                            Description  \n",
       "30    This pawesome documentary explores how our fel...  \n",
       "34    A teenage hacker with a huge nose helps a cool...  \n",
       "608   After mysterious lights imbue her with extraor...  \n",
       "1506  Two teenagers print counterfeit money in their...  \n",
       "3713  This documentary follows the 2016 tour of belo...  \n",
       "3956  Quebecois comedy star Martin Matte serves up e...  \n",
       "5336  High schooler Sadie Mitchell believes the worl...  \n",
       "5393  When a palatial wedding venue turns out to be ...  \n",
       "6062  Decades after WWII, a former SS officer stands...  \n",
       "7025  A widow searches for her missing teenage daugh...  \n",
       "7041  This documentary spotlights the struggle of mi...  "
      ]
     },
     "execution_count": 17,
     "metadata": {},
     "output_type": "execute_result"
    }
   ],
   "source": [
    "df[(df['Category'] == 'Movie') & (df['Rating'] == 'TV-14') & (df['Country'] == 'Canada')]"
   ]
  },
  {
   "cell_type": "markdown",
   "id": "d62c7669",
   "metadata": {},
   "source": [
    "### 6. What are the different ratings defined by Netflix ?"
   ]
  },
  {
   "cell_type": "code",
   "execution_count": 18,
   "id": "d41da97a",
   "metadata": {},
   "outputs": [
    {
     "data": {
      "text/plain": [
       "array(['TV-MA', 'R', 'PG-13', 'TV-14', 'TV-PG', 'NR', 'TV-G', 'TV-Y', nan,\n",
       "       'TV-Y7', 'PG', 'G', 'NC-17', 'TV-Y7-FV', 'UR'], dtype=object)"
      ]
     },
     "execution_count": 18,
     "metadata": {},
     "output_type": "execute_result"
    }
   ],
   "source": [
    "df['Rating'].unique()         "
   ]
  },
  {
   "cell_type": "markdown",
   "id": "2d75d0d3",
   "metadata": {},
   "source": [
    "Here we are able to see the NaN value so to remove it We can drop the NULL values from 'Rating'"
   ]
  },
  {
   "cell_type": "code",
   "execution_count": 19,
   "id": "21d23879",
   "metadata": {},
   "outputs": [
    {
     "data": {
      "text/plain": [
       "array(['TV-MA', 'R', 'PG-13', 'TV-14', 'TV-PG', 'NR', 'TV-G', 'TV-Y',\n",
       "       'TV-Y7', 'PG', 'G', 'NC-17', 'TV-Y7-FV', 'UR'], dtype=object)"
      ]
     },
     "execution_count": 19,
     "metadata": {},
     "output_type": "execute_result"
    }
   ],
   "source": [
    "df['Rating'].dropna().unique()"
   ]
  },
  {
   "cell_type": "markdown",
   "id": "47bddbb8",
   "metadata": {},
   "source": [
    "### 7. In how many Movies/TV Shows Tom Cruise was Cast ?"
   ]
  },
  {
   "cell_type": "markdown",
   "id": "fa38d6ae",
   "metadata": {},
   "source": [
    "After analyzing the cast column we can see that its data type is object and there are a lot of NULL values available.\n",
    "So we need to typecast the column and we can replace NULL will 'UNKNOWN' for accurate results."
   ]
  },
  {
   "cell_type": "code",
   "execution_count": 20,
   "id": "b9bbc8fa",
   "metadata": {},
   "outputs": [
    {
     "data": {
      "text/plain": [
       "str"
      ]
     },
     "execution_count": 20,
     "metadata": {},
     "output_type": "execute_result"
    }
   ],
   "source": [
    "df['Cast'].astype('str')\n",
    "type(df['Cast'][0])"
   ]
  },
  {
   "cell_type": "code",
   "execution_count": 21,
   "id": "fcbab557",
   "metadata": {},
   "outputs": [
    {
     "data": {
      "text/plain": [
       "Show_Id            0\n",
       "Category           0\n",
       "Title              0\n",
       "Director        2388\n",
       "Cast               0\n",
       "Country          507\n",
       "Release_Date      10\n",
       "Rating             7\n",
       "Duration           0\n",
       "Type               0\n",
       "Description        0\n",
       "dtype: int64"
      ]
     },
     "execution_count": 21,
     "metadata": {},
     "output_type": "execute_result"
    }
   ],
   "source": [
    "df['Cast'].fillna('Unknown',inplace=True)\n",
    "\n",
    "df.isnull().sum()"
   ]
  },
  {
   "cell_type": "code",
   "execution_count": 22,
   "id": "7123f96b",
   "metadata": {},
   "outputs": [
    {
     "data": {
      "text/html": [
       "<div>\n",
       "<style scoped>\n",
       "    .dataframe tbody tr th:only-of-type {\n",
       "        vertical-align: middle;\n",
       "    }\n",
       "\n",
       "    .dataframe tbody tr th {\n",
       "        vertical-align: top;\n",
       "    }\n",
       "\n",
       "    .dataframe thead th {\n",
       "        text-align: right;\n",
       "    }\n",
       "</style>\n",
       "<table border=\"1\" class=\"dataframe\">\n",
       "  <thead>\n",
       "    <tr style=\"text-align: right;\">\n",
       "      <th></th>\n",
       "      <th>Show_Id</th>\n",
       "      <th>Category</th>\n",
       "      <th>Title</th>\n",
       "      <th>Director</th>\n",
       "      <th>Cast</th>\n",
       "      <th>Country</th>\n",
       "      <th>Release_Date</th>\n",
       "      <th>Rating</th>\n",
       "      <th>Duration</th>\n",
       "      <th>Type</th>\n",
       "      <th>Description</th>\n",
       "    </tr>\n",
       "  </thead>\n",
       "  <tbody>\n",
       "    <tr>\n",
       "      <th>3860</th>\n",
       "      <td>s3861</td>\n",
       "      <td>Movie</td>\n",
       "      <td>Magnolia</td>\n",
       "      <td>Paul Thomas Anderson</td>\n",
       "      <td>Jeremy Blackman, Tom Cruise, Melinda Dillon, A...</td>\n",
       "      <td>United States</td>\n",
       "      <td>2020-01-01</td>\n",
       "      <td>R</td>\n",
       "      <td>189 min</td>\n",
       "      <td>Dramas, Independent Movies</td>\n",
       "      <td>Through chance, human action, past history and...</td>\n",
       "    </tr>\n",
       "    <tr>\n",
       "      <th>5071</th>\n",
       "      <td>s5071</td>\n",
       "      <td>Movie</td>\n",
       "      <td>Rain Man</td>\n",
       "      <td>Barry Levinson</td>\n",
       "      <td>Dustin Hoffman, Tom Cruise, Valeria Golino, Ge...</td>\n",
       "      <td>United States</td>\n",
       "      <td>2019-07-01</td>\n",
       "      <td>R</td>\n",
       "      <td>134 min</td>\n",
       "      <td>Classic Movies, Dramas</td>\n",
       "      <td>A fast-talking yuppie is forced to slow down w...</td>\n",
       "    </tr>\n",
       "  </tbody>\n",
       "</table>\n",
       "</div>"
      ],
      "text/plain": [
       "     Show_Id Category     Title              Director  \\\n",
       "3860   s3861    Movie  Magnolia  Paul Thomas Anderson   \n",
       "5071   s5071    Movie  Rain Man        Barry Levinson   \n",
       "\n",
       "                                                   Cast        Country  \\\n",
       "3860  Jeremy Blackman, Tom Cruise, Melinda Dillon, A...  United States   \n",
       "5071  Dustin Hoffman, Tom Cruise, Valeria Golino, Ge...  United States   \n",
       "\n",
       "     Release_Date Rating Duration                        Type  \\\n",
       "3860   2020-01-01      R  189 min  Dramas, Independent Movies   \n",
       "5071   2019-07-01      R  134 min      Classic Movies, Dramas   \n",
       "\n",
       "                                            Description  \n",
       "3860  Through chance, human action, past history and...  \n",
       "5071  A fast-talking yuppie is forced to slow down w...  "
      ]
     },
     "execution_count": 22,
     "metadata": {},
     "output_type": "execute_result"
    }
   ],
   "source": [
    "# For Tom Cruise\n",
    "\n",
    "df[df['Cast'].str.contains('Tom Cruise')]"
   ]
  },
  {
   "cell_type": "markdown",
   "id": "758793fc",
   "metadata": {},
   "source": [
    "### 8. Show TOP 10 Directors who gave highest number of TV Shows and Movies to Netflix ?"
   ]
  },
  {
   "cell_type": "code",
   "execution_count": 23,
   "id": "88c78040",
   "metadata": {},
   "outputs": [
    {
     "data": {
      "text/plain": [
       "<AxesSubplot:>"
      ]
     },
     "execution_count": 23,
     "metadata": {},
     "output_type": "execute_result"
    },
    {
     "data": {
      "image/png": "[encoded data removed]",
      "text/plain": [
       "<Figure size 640x480 with 1 Axes>"
      ]
     },
     "metadata": {},
     "output_type": "display_data"
    }
   ],
   "source": [
    "df['Director'].value_counts().head(10).plot(kind='bar')"
   ]
  },
  {
   "cell_type": "markdown",
   "id": "a2c90cec",
   "metadata": {},
   "source": [
    "### 9. Show all records where Category is Movie and Type is Comedies or Country is United Kingdom"
   ]
  },
  {
   "cell_type": "code",
   "execution_count": 24,
   "id": "226a4377",
   "metadata": {},
   "outputs": [
    {
     "data": {
      "text/plain": [
       "str"
      ]
     },
     "execution_count": 24,
     "metadata": {},
     "output_type": "execute_result"
    }
   ],
   "source": [
    "df['Type'].astype('str')\n",
    "\n",
    "type(df['Type'][0])"
   ]
  },
  {
   "cell_type": "code",
   "execution_count": 25,
   "id": "7dc79135",
   "metadata": {},
   "outputs": [
    {
     "data": {
      "text/html": [
       "<div>\n",
       "<style scoped>\n",
       "    .dataframe tbody tr th:only-of-type {\n",
       "        vertical-align: middle;\n",
       "    }\n",
       "\n",
       "    .dataframe tbody tr th {\n",
       "        vertical-align: top;\n",
       "    }\n",
       "\n",
       "    .dataframe thead th {\n",
       "        text-align: right;\n",
       "    }\n",
       "</style>\n",
       "<table border=\"1\" class=\"dataframe\">\n",
       "  <thead>\n",
       "    <tr style=\"text-align: right;\">\n",
       "      <th></th>\n",
       "      <th>Show_Id</th>\n",
       "      <th>Category</th>\n",
       "      <th>Title</th>\n",
       "      <th>Director</th>\n",
       "      <th>Cast</th>\n",
       "      <th>Country</th>\n",
       "      <th>Release_Date</th>\n",
       "      <th>Rating</th>\n",
       "      <th>Duration</th>\n",
       "      <th>Type</th>\n",
       "      <th>Description</th>\n",
       "    </tr>\n",
       "  </thead>\n",
       "  <tbody>\n",
       "    <tr>\n",
       "      <th>19</th>\n",
       "      <td>s20</td>\n",
       "      <td>Movie</td>\n",
       "      <td>'89</td>\n",
       "      <td>NaN</td>\n",
       "      <td>Lee Dixon, Ian Wright, Paul Merson</td>\n",
       "      <td>United Kingdom</td>\n",
       "      <td>2018-05-16</td>\n",
       "      <td>TV-PG</td>\n",
       "      <td>87 min</td>\n",
       "      <td>Sports Movies</td>\n",
       "      <td>Mixing old footage with interviews, this is th...</td>\n",
       "    </tr>\n",
       "    <tr>\n",
       "      <th>33</th>\n",
       "      <td>s34</td>\n",
       "      <td>Movie</td>\n",
       "      <td>#realityhigh</td>\n",
       "      <td>Fernando Lebrija</td>\n",
       "      <td>Nesta Cooper, Kate Walsh, John Michael Higgins...</td>\n",
       "      <td>United States</td>\n",
       "      <td>2017-09-08</td>\n",
       "      <td>TV-14</td>\n",
       "      <td>99 min</td>\n",
       "      <td>Comedies</td>\n",
       "      <td>When nerdy high schooler Dani finally attracts...</td>\n",
       "    </tr>\n",
       "    <tr>\n",
       "      <th>58</th>\n",
       "      <td>s59</td>\n",
       "      <td>TV Show</td>\n",
       "      <td>100% Hotter</td>\n",
       "      <td>NaN</td>\n",
       "      <td>Daniel Palmer, Melissa Sophia, Karen Williams,...</td>\n",
       "      <td>United Kingdom</td>\n",
       "      <td>2019-11-01</td>\n",
       "      <td>TV-14</td>\n",
       "      <td>1 Season</td>\n",
       "      <td>British TV Shows, International TV Shows, Real...</td>\n",
       "      <td>A stylist, a hair designer and a makeup artist...</td>\n",
       "    </tr>\n",
       "    <tr>\n",
       "      <th>72</th>\n",
       "      <td>s73</td>\n",
       "      <td>Movie</td>\n",
       "      <td>17 Again</td>\n",
       "      <td>Burr Steers</td>\n",
       "      <td>Zac Efron, Leslie Mann, Matthew Perry, Thomas ...</td>\n",
       "      <td>United States</td>\n",
       "      <td>2021-01-01</td>\n",
       "      <td>PG-13</td>\n",
       "      <td>102 min</td>\n",
       "      <td>Comedies</td>\n",
       "      <td>Nearing a midlife crisis, thirty-something Mik...</td>\n",
       "    </tr>\n",
       "    <tr>\n",
       "      <th>82</th>\n",
       "      <td>s83</td>\n",
       "      <td>Movie</td>\n",
       "      <td>2036 Origin Unknown</td>\n",
       "      <td>Hasraf Dulull</td>\n",
       "      <td>Katee Sackhoff, Ray Fearon, Julie Cox, Steven ...</td>\n",
       "      <td>United Kingdom</td>\n",
       "      <td>2018-12-20</td>\n",
       "      <td>TV-14</td>\n",
       "      <td>95 min</td>\n",
       "      <td>Sci-Fi &amp; Fantasy</td>\n",
       "      <td>Working with an artificial intelligence to inv...</td>\n",
       "    </tr>\n",
       "    <tr>\n",
       "      <th>...</th>\n",
       "      <td>...</td>\n",
       "      <td>...</td>\n",
       "      <td>...</td>\n",
       "      <td>...</td>\n",
       "      <td>...</td>\n",
       "      <td>...</td>\n",
       "      <td>...</td>\n",
       "      <td>...</td>\n",
       "      <td>...</td>\n",
       "      <td>...</td>\n",
       "      <td>...</td>\n",
       "    </tr>\n",
       "    <tr>\n",
       "      <th>7670</th>\n",
       "      <td>s7669</td>\n",
       "      <td>TV Show</td>\n",
       "      <td>World War II in Colour</td>\n",
       "      <td>NaN</td>\n",
       "      <td>Robert Powell</td>\n",
       "      <td>United Kingdom</td>\n",
       "      <td>2017-08-01</td>\n",
       "      <td>TV-MA</td>\n",
       "      <td>1 Season</td>\n",
       "      <td>British TV Shows, Docuseries, International TV...</td>\n",
       "      <td>Footage of the most dramatic moments from Worl...</td>\n",
       "    </tr>\n",
       "    <tr>\n",
       "      <th>7671</th>\n",
       "      <td>s7670</td>\n",
       "      <td>TV Show</td>\n",
       "      <td>World's Busiest Cities</td>\n",
       "      <td>NaN</td>\n",
       "      <td>Anita Rani, Ade Adepitan, Dan Snow</td>\n",
       "      <td>United Kingdom</td>\n",
       "      <td>2019-02-01</td>\n",
       "      <td>TV-PG</td>\n",
       "      <td>1 Season</td>\n",
       "      <td>British TV Shows, Docuseries</td>\n",
       "      <td>From Moscow to Mexico City, three BBC journali...</td>\n",
       "    </tr>\n",
       "    <tr>\n",
       "      <th>7688</th>\n",
       "      <td>s7687</td>\n",
       "      <td>Movie</td>\n",
       "      <td>XV: Beyond the Tryline</td>\n",
       "      <td>Pierre Deschamps</td>\n",
       "      <td>Unknown</td>\n",
       "      <td>United Kingdom</td>\n",
       "      <td>2020-03-18</td>\n",
       "      <td>TV-14</td>\n",
       "      <td>91 min</td>\n",
       "      <td>Documentaries, Sports Movies</td>\n",
       "      <td>Set against the 2015 Rugby World Cup, this doc...</td>\n",
       "    </tr>\n",
       "    <tr>\n",
       "      <th>7725</th>\n",
       "      <td>s7724</td>\n",
       "      <td>Movie</td>\n",
       "      <td>You Can Tutu</td>\n",
       "      <td>James Brown</td>\n",
       "      <td>Lily O'Regan, Jeannettsy Enriquez Borges, Joel...</td>\n",
       "      <td>United Kingdom</td>\n",
       "      <td>2017-12-31</td>\n",
       "      <td>TV-G</td>\n",
       "      <td>87 min</td>\n",
       "      <td>Children &amp; Family Movies</td>\n",
       "      <td>A gifted young ballet dancer struggles to find...</td>\n",
       "    </tr>\n",
       "    <tr>\n",
       "      <th>7740</th>\n",
       "      <td>s7739</td>\n",
       "      <td>TV Show</td>\n",
       "      <td>Young Wallander</td>\n",
       "      <td>NaN</td>\n",
       "      <td>Adam Pålsson, Richard Dillane, Leanne Best, El...</td>\n",
       "      <td>United Kingdom</td>\n",
       "      <td>2020-09-03</td>\n",
       "      <td>TV-MA</td>\n",
       "      <td>1 Season</td>\n",
       "      <td>Crime TV Shows, International TV Shows, TV Dramas</td>\n",
       "      <td>An incendiary hate crime stirs civil unrest, f...</td>\n",
       "    </tr>\n",
       "  </tbody>\n",
       "</table>\n",
       "<p>485 rows × 11 columns</p>\n",
       "</div>"
      ],
      "text/plain": [
       "     Show_Id Category                   Title          Director  \\\n",
       "19       s20    Movie                     '89               NaN   \n",
       "33       s34    Movie            #realityhigh  Fernando Lebrija   \n",
       "58       s59  TV Show             100% Hotter               NaN   \n",
       "72       s73    Movie                17 Again       Burr Steers   \n",
       "82       s83    Movie     2036 Origin Unknown     Hasraf Dulull   \n",
       "...      ...      ...                     ...               ...   \n",
       "7670   s7669  TV Show  World War II in Colour               NaN   \n",
       "7671   s7670  TV Show  World's Busiest Cities               NaN   \n",
       "7688   s7687    Movie  XV: Beyond the Tryline  Pierre Deschamps   \n",
       "7725   s7724    Movie            You Can Tutu       James Brown   \n",
       "7740   s7739  TV Show         Young Wallander               NaN   \n",
       "\n",
       "                                                   Cast         Country  \\\n",
       "19                   Lee Dixon, Ian Wright, Paul Merson  United Kingdom   \n",
       "33    Nesta Cooper, Kate Walsh, John Michael Higgins...   United States   \n",
       "58    Daniel Palmer, Melissa Sophia, Karen Williams,...  United Kingdom   \n",
       "72    Zac Efron, Leslie Mann, Matthew Perry, Thomas ...   United States   \n",
       "82    Katee Sackhoff, Ray Fearon, Julie Cox, Steven ...  United Kingdom   \n",
       "...                                                 ...             ...   \n",
       "7670                                      Robert Powell  United Kingdom   \n",
       "7671                 Anita Rani, Ade Adepitan, Dan Snow  United Kingdom   \n",
       "7688                                            Unknown  United Kingdom   \n",
       "7725  Lily O'Regan, Jeannettsy Enriquez Borges, Joel...  United Kingdom   \n",
       "7740  Adam Pålsson, Richard Dillane, Leanne Best, El...  United Kingdom   \n",
       "\n",
       "     Release_Date Rating  Duration  \\\n",
       "19     2018-05-16  TV-PG    87 min   \n",
       "33     2017-09-08  TV-14    99 min   \n",
       "58     2019-11-01  TV-14  1 Season   \n",
       "72     2021-01-01  PG-13   102 min   \n",
       "82     2018-12-20  TV-14    95 min   \n",
       "...           ...    ...       ...   \n",
       "7670   2017-08-01  TV-MA  1 Season   \n",
       "7671   2019-02-01  TV-PG  1 Season   \n",
       "7688   2020-03-18  TV-14    91 min   \n",
       "7725   2017-12-31   TV-G    87 min   \n",
       "7740   2020-09-03  TV-MA  1 Season   \n",
       "\n",
       "                                                   Type  \\\n",
       "19                                        Sports Movies   \n",
       "33                                             Comedies   \n",
       "58    British TV Shows, International TV Shows, Real...   \n",
       "72                                             Comedies   \n",
       "82                                     Sci-Fi & Fantasy   \n",
       "...                                                 ...   \n",
       "7670  British TV Shows, Docuseries, International TV...   \n",
       "7671                       British TV Shows, Docuseries   \n",
       "7688                       Documentaries, Sports Movies   \n",
       "7725                           Children & Family Movies   \n",
       "7740  Crime TV Shows, International TV Shows, TV Dramas   \n",
       "\n",
       "                                            Description  \n",
       "19    Mixing old footage with interviews, this is th...  \n",
       "33    When nerdy high schooler Dani finally attracts...  \n",
       "58    A stylist, a hair designer and a makeup artist...  \n",
       "72    Nearing a midlife crisis, thirty-something Mik...  \n",
       "82    Working with an artificial intelligence to inv...  \n",
       "...                                                 ...  \n",
       "7670  Footage of the most dramatic moments from Worl...  \n",
       "7671  From Moscow to Mexico City, three BBC journali...  \n",
       "7688  Set against the 2015 Rugby World Cup, this doc...  \n",
       "7725  A gifted young ballet dancer struggles to find...  \n",
       "7740  An incendiary hate crime stirs civil unrest, f...  \n",
       "\n",
       "[485 rows x 11 columns]"
      ]
     },
     "execution_count": 25,
     "metadata": {},
     "output_type": "execute_result"
    }
   ],
   "source": [
    "df[ ((df['Category'] == 'Movie') & (df['Type'].isin(['Comedies'])) ) | (df['Country'] == 'United Kingdom')]"
   ]
  },
  {
   "cell_type": "markdown",
   "id": "c7c8aefc",
   "metadata": {},
   "source": [
    "### 10. Show only the Title of TV Shows that were released in India Only"
   ]
  },
  {
   "cell_type": "code",
   "execution_count": 26,
   "id": "9da64abe",
   "metadata": {},
   "outputs": [
    {
     "data": {
      "text/plain": [
       "86            21 Sarfarosh: Saragarhi 1897\n",
       "132                              7 (Seven)\n",
       "340                           Agent Raghav\n",
       "364                           Akbar Birbal\n",
       "533                    Anjaan: Rural Myths\n",
       "                       ...                \n",
       "6249                  The Creative Indians\n",
       "6400    The Golden Years with Javed Akhtar\n",
       "6469                The House That Made Me\n",
       "7294                            Typewriter\n",
       "7705                       Yeh Meri Family\n",
       "Name: Title, Length: 71, dtype: object"
      ]
     },
     "execution_count": 26,
     "metadata": {},
     "output_type": "execute_result"
    }
   ],
   "source": [
    "df[(df['Category'] == 'TV Show') & (df['Country'] == 'India')]['Title']"
   ]
  },
  {
   "cell_type": "markdown",
   "id": "26e37875",
   "metadata": {},
   "source": [
    "Alternate way to Solve this"
   ]
  },
  {
   "cell_type": "code",
   "execution_count": 27,
   "id": "502d2b2a",
   "metadata": {},
   "outputs": [
    {
     "data": {
      "text/html": [
       "<div>\n",
       "<style scoped>\n",
       "    .dataframe tbody tr th:only-of-type {\n",
       "        vertical-align: middle;\n",
       "    }\n",
       "\n",
       "    .dataframe tbody tr th {\n",
       "        vertical-align: top;\n",
       "    }\n",
       "\n",
       "    .dataframe thead th {\n",
       "        text-align: right;\n",
       "    }\n",
       "</style>\n",
       "<table border=\"1\" class=\"dataframe\">\n",
       "  <thead>\n",
       "    <tr style=\"text-align: right;\">\n",
       "      <th></th>\n",
       "      <th>Title</th>\n",
       "    </tr>\n",
       "  </thead>\n",
       "  <tbody>\n",
       "    <tr>\n",
       "      <th>86</th>\n",
       "      <td>21 Sarfarosh: Saragarhi 1897</td>\n",
       "    </tr>\n",
       "    <tr>\n",
       "      <th>132</th>\n",
       "      <td>7 (Seven)</td>\n",
       "    </tr>\n",
       "    <tr>\n",
       "      <th>340</th>\n",
       "      <td>Agent Raghav</td>\n",
       "    </tr>\n",
       "    <tr>\n",
       "      <th>364</th>\n",
       "      <td>Akbar Birbal</td>\n",
       "    </tr>\n",
       "    <tr>\n",
       "      <th>533</th>\n",
       "      <td>Anjaan: Rural Myths</td>\n",
       "    </tr>\n",
       "    <tr>\n",
       "      <th>...</th>\n",
       "      <td>...</td>\n",
       "    </tr>\n",
       "    <tr>\n",
       "      <th>6249</th>\n",
       "      <td>The Creative Indians</td>\n",
       "    </tr>\n",
       "    <tr>\n",
       "      <th>6400</th>\n",
       "      <td>The Golden Years with Javed Akhtar</td>\n",
       "    </tr>\n",
       "    <tr>\n",
       "      <th>6469</th>\n",
       "      <td>The House That Made Me</td>\n",
       "    </tr>\n",
       "    <tr>\n",
       "      <th>7294</th>\n",
       "      <td>Typewriter</td>\n",
       "    </tr>\n",
       "    <tr>\n",
       "      <th>7705</th>\n",
       "      <td>Yeh Meri Family</td>\n",
       "    </tr>\n",
       "  </tbody>\n",
       "</table>\n",
       "<p>71 rows × 1 columns</p>\n",
       "</div>"
      ],
      "text/plain": [
       "                                   Title\n",
       "86          21 Sarfarosh: Saragarhi 1897\n",
       "132                            7 (Seven)\n",
       "340                         Agent Raghav\n",
       "364                         Akbar Birbal\n",
       "533                  Anjaan: Rural Myths\n",
       "...                                  ...\n",
       "6249                The Creative Indians\n",
       "6400  The Golden Years with Javed Akhtar\n",
       "6469              The House That Made Me\n",
       "7294                          Typewriter\n",
       "7705                     Yeh Meri Family\n",
       "\n",
       "[71 rows x 1 columns]"
      ]
     },
     "execution_count": 27,
     "metadata": {},
     "output_type": "execute_result"
    }
   ],
   "source": [
    "df.query(\"Category == 'TV Show' and Country == 'India'\")[['Title']]"
   ]
  },
  {
   "cell_type": "markdown",
   "id": "480fa3ef",
   "metadata": {},
   "source": [
    "## This concludes the EDA on Netflix Dataset"
   ]
  },
  {
   "cell_type": "markdown",
   "id": "7ee05c0c",
   "metadata": {},
   "source": [
    "## Thank you!"
   ]
  }
 ],
 "metadata": {
  "kernelspec": {
   "display_name": "Python 3 (ipykernel)",
   "language": "python",
   "name": "python3"
  },
  "language_info": {
   "codemirror_mode": {
    "name": "ipython",
    "version": 3
   },
   "file_extension": ".py",
   "mimetype": "text/x-python",
   "name": "python",
   "nbconvert_exporter": "python",
   "pygments_lexer": "ipython3",
   "version": "3.9.13"
  }
 },
 "nbformat": 4,
 "nbformat_minor": 5
}
